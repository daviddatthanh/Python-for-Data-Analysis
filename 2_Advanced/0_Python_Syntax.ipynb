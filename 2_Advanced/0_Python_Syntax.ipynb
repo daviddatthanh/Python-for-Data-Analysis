{
 "cells": [
  {
   "attachments": {
    "image.png": {
     "image/png": "[encoded data removed]"
    }
   },
   "cell_type": "markdown",
   "metadata": {},
   "source": [
    "### Pandas Accessing Data\n",
    "![image.png](attachment:image.png)\n"
   ]
  },
  {
   "cell_type": "code",
   "execution_count": 3,
   "metadata": {},
   "outputs": [],
   "source": [
    "#you can use the pd.to_to insert data\n",
    "\n",
    "import pandas as pd\n",
    "#pd.read_csv(sep=,)\n",
    "#but whats more powerful is loading data from the internet\n",
    "#search up the API isntruction from that website\n",
    "#for example. huggingface.com is \n",
    "from datasets import load_dataset\n",
    "#df = load_dataset('lukebarousse/data_jobs')['train'].to_pandas()"
   ]
  },
  {
   "cell_type": "markdown",
   "metadata": {},
   "source": [
    "### exploring the dataframe"
   ]
  },
  {
   "cell_type": "code",
   "execution_count": 4,
   "metadata": {},
   "outputs": [
    {
     "ename": "NameError",
     "evalue": "name 'df' is not defined",
     "output_type": "error",
     "traceback": [
      "\u001b[1;31m---------------------------------------------------------------------------\u001b[0m",
      "\u001b[1;31mNameError\u001b[0m                                 Traceback (most recent call last)",
      "Cell \u001b[1;32mIn[4], line 7\u001b[0m\n\u001b[0;32m      1\u001b[0m \u001b[38;5;66;03m#remember whenever you assign a data frame to another data frame \u001b[39;00m\n\u001b[0;32m      2\u001b[0m \u001b[38;5;66;03m#for the first time, always use .copy()\u001b[39;00m\n\u001b[0;32m      3\u001b[0m \u001b[38;5;66;03m#df_filled = df.copy()\u001b[39;00m\n\u001b[0;32m      4\u001b[0m \n\u001b[0;32m      5\u001b[0m \u001b[38;5;66;03m#sampling data for everyone\u001b[39;00m\n\u001b[0;32m      6\u001b[0m \u001b[38;5;66;03m#outputing the same results everys single time\u001b[39;00m\n\u001b[1;32m----> 7\u001b[0m \u001b[43mdf\u001b[49m\u001b[38;5;241m.\u001b[39msample(\u001b[38;5;241m10\u001b[39m, random_state \u001b[38;5;241m=\u001b[39m \u001b[38;5;241m42\u001b[39m)\n",
      "\u001b[1;31mNameError\u001b[0m: name 'df' is not defined"
     ]
    }
   ],
   "source": [
    "\n",
    "\n",
    "#remember whenever you assign a data frame to another data frame \n",
    "#for the first time, always use .copy()\n",
    "#df_filled = df.copy()\n",
    "\n",
    "#sampling data for everyone\n",
    "#outputing the same results everys single time\n",
    "df.sample(10, random_state = 42)"
   ]
  },
  {
   "cell_type": "markdown",
   "metadata": {},
   "source": [
    "### Choosing and interacting with data\n"
   ]
  },
  {
   "cell_type": "code",
   "execution_count": null,
   "metadata": {},
   "outputs": [],
   "source": [
    "### FILTERING DATA\n",
    "\n",
    "#choosing range of columns is simply naming the columns\n",
    "#df.col_name or df['col_name']\n",
    "\n",
    "#choosing range of rows\n",
    "df.iloc[0:5]\n",
    "#or with names\n",
    "#names are important when it comes to pivot tables and index with names\n",
    "df.loc[:, 'salary_year_avg': 'company_name'].dropna(subset='salary_year_avg')\n",
    "\n",
    "\n",
    "#CLEANING DATA\n",
    "\n",
    "#clean data by inputing NA values\n",
    "#we will fill the na using median\n",
    "median_avg_year = df.salary_year_avg.median()\n",
    "median_avg_hour = df.salary_hour_avg.median()\n",
    "\n",
    "print(median_avg_year)\n",
    "print(median_avg_hour)\n",
    "\n",
    "df_filled['salary_year_avg'] = df_filled.salary_year_avg.fillna(median_avg_year)\n",
    "df_filled['salary_hour_avg'] = df_filled.salary_hour_avg.fillna(median_avg_hour)\n",
    "\n",
    "df_filled.salary_year_avg.median()\n",
    "df_filled.salary_hour_avg.median()\n",
    "# There are other intepolation methods. \n",
    "#.interpolation()\n",
    "\n",
    "#cleaning duplicates\n",
    "df_unique =  df_filled.drop_duplicates()\n",
    "df_unique =  df_filled.drop_duplicates(subset = ['job_title', 'company_name']).copy()\n",
    "\n",
    "\n",
    "### INTERACTING WITH DATA\n",
    "\n",
    "### working with dates\n",
    "df['job_posted_date'] = pd.to_datetime(df['job_posted_date'])\n",
    "#pd.to_datetime(), dt.year, dt.month, dt.day, dt.hour, dt.minute, dt.second, dt.strftime(format), dt.weekday(), dt.isin(), dt.days_in_month, dt.quarter, dt.is_leap_year, dt.normalize(), dt.floor(freq), dt.ceil(freq), dt.round(freq), dt.total_seconds()\n",
    "#converting the str name of the month %B to a date-time format\n",
    "#setting the column to a date time format first, then setting it to new column, then extracting the month only\n",
    "df_pivot_Luke['month_no']=pd.to_datetime(df_pivot_Luke['job_posted_month_name'], format = '%B').dt.month.copy()\n",
    "\n",
    "\n",
    "#pd.functions()\n",
    "#pd.read_csv(), pd.read_excel(), pd.to_numeric(), pd.cut(), pd.qcut(), pd.merge(), pd.concat(), pd.pivot_table(), pd.crosstab(), pd.get_dummies(), pd.isnull(), pd.notnull(), pd.melt(), pd.pivot(), pd.DataFrame.apply(), pd.DataFrame.map(), pd.DataFrame.fillna(), pd.DataFrame.dropna(), pd.DataFrame.replace(), pd.DataFrame.drop_duplicates(), pd.DataFrame.duplicated(), pd.DataFrame.groupby(), pd.DataFrame.sort_values(), pd.DataFrame.describe()\n",
    "\n",
    "### grouping columns and performing aggregation methods on those groupings\n",
    "df.groupby('job_title_short').size().sort_values(ascending=False),\n",
    "#other are size(), count(), sum(), mean(), median(), min(), max(), std(), var(), quantile(q), first(), last(), prod(), nunique(), agg()\n",
    "#now you have names to interct with .loc\n",
    "\n",
    "#set categories for data\n",
    "month_order = ['January', 'February', 'March', 'April', 'May', 'June', \n",
    "               'July', 'August', 'September', 'October', 'November', 'December']\n",
    "\n",
    "# Convert the 'job_posted_month_name' to a categorical type with the correct order\n",
    "df['job_posted_month_name'] = pd.Categorical(df['job_posted_month_name'], \n",
    "                                              categories=month_order, \n",
    "                                              ordered=True)\n",
    "##how to apply aggregation functions\n",
    "df_total = df_pivot.copy()\n",
    "#using .aggregation and inserting the row total using .loc['new name']\n",
    "df_total.loc['Total'] = df_pivot.sum()\n",
    "\n",
    "#doing this for the column \n",
    "df_total['Total'] = df_pivot.sum(axis=1)\n",
    "\n",
    "df_total\n",
    "\n",
    "### working with applying your own function on data \n",
    "##Use apply() on spefic columns or rows\n",
    "#we first will apply a function where the salary_year_avg will be predicted to be 3% higher . \n",
    "#here, will show both the apply using new equations or a lambda function\n",
    "\n",
    "#first we will have to get rid of na\n",
    "df_salary = df_US[pd.notna(df['salary_year_avg'])].copy()\n",
    "\n",
    "#method 1: since this one is simple, this is a simplier option \n",
    "df_salary['predicted_salary']= df_salary.salary_hour_avg * 1.03\n",
    "\n",
    "#method 2: using an independent function\n",
    "def equation(salary):\n",
    "    return salary * 1.03\n",
    "\n",
    "df_salary['predicted_salary']= df_salary.salary_year_avg.apply(equation)\n",
    "\n",
    "#method 3: using a lambda function\n",
    "df_salary['predicted_salary']= df_salary.salary_year_avg.apply(lambda salary: salary * 1.03)\n",
    "\n",
    "\n",
    "##exploding similar to unpivoting a columns\n",
    "help(df.explode)\n",
    "\n",
    "\n"
   ]
  },
  {
   "cell_type": "markdown",
   "metadata": {},
   "source": [
    "###Performing the pivot table"
   ]
  },
  {
   "cell_type": "code",
   "execution_count": null,
   "metadata": {},
   "outputs": [],
   "source": [
    "#the most simplest is constructing with 1 index, what do you want your values to be from\n",
    "df.pivot_table(index = 'job_title_short', aggfunc = 'size').sort_values(ascending=False)\n",
    "\n",
    "\n",
    "#ways to section off a pivot table\n",
    "#1. using .loc slicing with both rows and column\n",
    "# top_country  =  df.job_country.value_counts()[0:6].index\n",
    "#df_job_country = df_job_country.loc[top_country, 'Data Analyst':'Data Scientist']\n"
   ]
  },
  {
   "cell_type": "markdown",
   "metadata": {},
   "source": [
    "### Interacting with files"
   ]
  },
  {
   "cell_type": "code",
   "execution_count": null,
   "metadata": {},
   "outputs": [],
   "source": [
    "#using merge, concat\n",
    "merged_df = df_US_software.merge(df_pivot, on='job_posted_month')"
   ]
  },
  {
   "cell_type": "markdown",
   "metadata": {},
   "source": [
    "### how to plot"
   ]
  },
  {
   "cell_type": "code",
   "execution_count": null,
   "metadata": {},
   "outputs": [],
   "source": [
    "###USEFUL CUSTOMIZATION\n",
    "\n",
    "#one plot \n",
    "plt.ylabel('Median Salary ($USD)')\n",
    "plt.xlabel('')\n",
    "plt.title('Median Salary by Country and Job Title')\n",
    "plt.xticks(rotation= 45, ha = 'right')"
   ]
  },
  {
   "cell_type": "markdown",
   "metadata": {},
   "source": [
    "###Exporting"
   ]
  },
  {
   "cell_type": "code",
   "execution_count": null,
   "metadata": {},
   "outputs": [],
   "source": [
    ".to_clipboard()\n",
    ".to_csv()\n",
    "\n",
    "#requires additional steps\n",
    ".to_excel()\n",
    ".to_sql()\n",
    "\n",
    "#quick out and back in \n",
    ".to_pickle()\n",
    ".to_perquet()"
   ]
  }
 ],
 "metadata": {
  "kernelspec": {
   "display_name": "python_course",
   "language": "python",
   "name": "python3"
  },
  "language_info": {
   "codemirror_mode": {
    "name": "ipython",
    "version": 3
   },
   "file_extension": ".py",
   "mimetype": "text/x-python",
   "name": "python",
   "nbconvert_exporter": "python",
   "pygments_lexer": "ipython3",
   "version": "3.11.9"
  }
 },
 "nbformat": 4,
 "nbformat_minor": 2
}
